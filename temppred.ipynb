{
 "cells": [
  {
   "cell_type": "code",
   "execution_count": 1,
   "id": "be767ba5",
   "metadata": {},
   "outputs": [],
   "source": [
    "import pandas as pd\n",
    "import numpy as np"
   ]
  },
  {
   "cell_type": "code",
   "execution_count": 2,
   "id": "84edfb83",
   "metadata": {},
   "outputs": [],
   "source": [
    "data = pd.read_csv('temperature_dataset.csv')"
   ]
  },
  {
   "cell_type": "code",
   "execution_count": 3,
   "id": "72cda233",
   "metadata": {},
   "outputs": [
    {
     "name": "stdout",
     "output_type": "stream",
     "text": [
      "       Month  datetime    tem percit Hum%\n",
      "count      4       107    107    107  107\n",
      "unique     4       107     51     49   53\n",
      "top      May  5/1/2022  35.7C  0.5mm  12%\n",
      "freq       1         1     10      7    6\n"
     ]
    }
   ],
   "source": [
    "print(data.describe())"
   ]
  },
  {
   "cell_type": "code",
   "execution_count": 4,
   "id": "055d582e",
   "metadata": {},
   "outputs": [],
   "source": [
    "data = data.drop(['Month', 'datetime'], axis=1)"
   ]
  },
  {
   "cell_type": "code",
   "execution_count": 5,
   "id": "66482929",
   "metadata": {},
   "outputs": [],
   "source": [
    "data['tem'] = data['tem'].str.replace('C', '').astype(float)"
   ]
  },
  {
   "cell_type": "code",
   "execution_count": 6,
   "id": "a7b87550",
   "metadata": {},
   "outputs": [],
   "source": [
    "data['percit'] = data['percit'].str.replace('mm', '').astype(float)"
   ]
  },
  {
   "cell_type": "code",
   "execution_count": 7,
   "id": "1fa39c27",
   "metadata": {},
   "outputs": [],
   "source": [
    "data['Hum%'] = data['Hum%'].str.replace('%', '').astype(float)"
   ]
  },
  {
   "cell_type": "code",
   "execution_count": 8,
   "id": "99eb9fcb",
   "metadata": {},
   "outputs": [],
   "source": [
    "# perform linear regression\n",
    "X = data['tem']\n",
    "Y = data['Hum%']\n",
    "mean_x = np.mean(X)\n",
    "mean_y = np.mean(Y)\n",
    "size = len(X)"
   ]
  },
  {
   "cell_type": "code",
   "execution_count": 9,
   "id": "5b3d340d",
   "metadata": {},
   "outputs": [],
   "source": [
    "numerator = 0\n",
    "denominator = 0"
   ]
  },
  {
   "cell_type": "code",
   "execution_count": 10,
   "id": "40e1a462",
   "metadata": {},
   "outputs": [
    {
     "data": {
      "text/plain": [
       "-64.00940618628144"
      ]
     },
     "execution_count": 10,
     "metadata": {},
     "output_type": "execute_result"
    }
   ],
   "source": [
    "for i in range(size):\n",
    "    numerator += (X[i] - mean_x)*(Y[i] - mean_y)\n",
    "    denominator += (X[i]-mean_x) ** 2\n",
    "m = numerator/denominator\n",
    "c = mean_y - (m * mean_x)\n",
    "c"
   ]
  },
  {
   "cell_type": "code",
   "execution_count": null,
   "id": "d8c5fcd1",
   "metadata": {},
   "outputs": [],
   "source": []
  }
 ],
 "metadata": {
  "kernelspec": {
   "display_name": "Python 3 (ipykernel)",
   "language": "python",
   "name": "python3"
  },
  "language_info": {
   "codemirror_mode": {
    "name": "ipython",
    "version": 3
   },
   "file_extension": ".py",
   "mimetype": "text/x-python",
   "name": "python",
   "nbconvert_exporter": "python",
   "pygments_lexer": "ipython3",
   "version": "3.9.13"
  }
 },
 "nbformat": 4,
 "nbformat_minor": 5
}
